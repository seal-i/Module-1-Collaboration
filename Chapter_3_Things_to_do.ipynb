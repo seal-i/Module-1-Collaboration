{
 "cells": [
  {
   "cell_type": "code",
   "execution_count": 1,
   "id": "cc35b92a-2871-40de-8896-bb7fce5b3b9d",
   "metadata": {},
   "outputs": [
    {
     "data": {
      "text/plain": [
       "3600"
      ]
     },
     "execution_count": 1,
     "metadata": {},
     "output_type": "execute_result"
    }
   ],
   "source": [
    "#calculate the number of seconds in an hour\n",
    "seconds_in_a_minute = 60\n",
    "minutes_in_an_hour = 60\n",
    "seconds_in_a_hour = seconds_in_a_minute * minutes_in_an_hour\n",
    "seconds_in_a_hour"
   ]
  },
  {
   "cell_type": "code",
   "execution_count": 3,
   "id": "2ea6f5ce-8885-4457-8771-7742893aaf1a",
   "metadata": {},
   "outputs": [
    {
     "data": {
      "text/plain": [
       "3600"
      ]
     },
     "execution_count": 3,
     "metadata": {},
     "output_type": "execute_result"
    }
   ],
   "source": [
    "seconds_per_hour = 3600\n",
    "seconds_per_hour"
   ]
  },
  {
   "cell_type": "code",
   "execution_count": 5,
   "id": "77a49740-fb25-4f4f-9742-f44f239c40f8",
   "metadata": {},
   "outputs": [
    {
     "data": {
      "text/plain": [
       "86400"
      ]
     },
     "execution_count": 5,
     "metadata": {},
     "output_type": "execute_result"
    }
   ],
   "source": [
    "#calculate seconds in a day\n",
    "seconds_per_day = seconds_per_hour * 24\n",
    "seconds_per_day"
   ]
  },
  {
   "cell_type": "code",
   "execution_count": 7,
   "id": "2e495c60-c35b-47ad-ac53-e936bdede01d",
   "metadata": {},
   "outputs": [
    {
     "data": {
      "text/plain": [
       "24.0"
      ]
     },
     "execution_count": 7,
     "metadata": {},
     "output_type": "execute_result"
    }
   ],
   "source": [
    "#floating-point division\n",
    "seconds_per_day / seconds_per_hour\n"
   ]
  },
  {
   "cell_type": "code",
   "execution_count": 9,
   "id": "c3b8a0a8-9f91-492c-93ab-88093b1fb9b5",
   "metadata": {},
   "outputs": [
    {
     "data": {
      "text/plain": [
       "24"
      ]
     },
     "execution_count": 9,
     "metadata": {},
     "output_type": "execute_result"
    }
   ],
   "source": [
    "#intger division\n",
    "seconds_per_day // seconds_per_hour"
   ]
  },
  {
   "cell_type": "code",
   "execution_count": null,
   "id": "e6a5c25a-f6ab-474e-bd5b-b008cf367d33",
   "metadata": {},
   "outputs": [],
   "source": []
  }
 ],
 "metadata": {
  "kernelspec": {
   "display_name": "Python 3 (ipykernel)",
   "language": "python",
   "name": "python3"
  },
  "language_info": {
   "codemirror_mode": {
    "name": "ipython",
    "version": 3
   },
   "file_extension": ".py",
   "mimetype": "text/x-python",
   "name": "python",
   "nbconvert_exporter": "python",
   "pygments_lexer": "ipython3",
   "version": "3.12.7"
  }
 },
 "nbformat": 4,
 "nbformat_minor": 5
}
